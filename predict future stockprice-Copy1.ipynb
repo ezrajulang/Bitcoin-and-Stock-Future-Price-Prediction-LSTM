{
 "cells": [
  {
   "cell_type": "code",
   "execution_count": 1,
   "metadata": {
    "colab": {
     "base_uri": "https://localhost:8080/"
    },
    "executionInfo": {
     "elapsed": 10301,
     "status": "ok",
     "timestamp": 1655954857733,
     "user": {
      "displayName": "Ezra Julang",
      "userId": "08946344270958630974"
     },
     "user_tz": -420
    },
    "id": "BVLJkczkzEtb",
    "outputId": "c18f5b2d-76a5-4efc-8be5-fa87e3440126"
   },
   "outputs": [
    {
     "name": "stdout",
     "output_type": "stream",
     "text": [
      "Requirement already satisfied: pandas_datareader in c:\\users\\genaro\\appdata\\local\\programs\\python\\python310\\lib\\site-packages (0.10.0)\n",
      "Requirement already satisfied: lxml in c:\\users\\genaro\\appdata\\local\\programs\\python\\python310\\lib\\site-packages (from pandas_datareader) (4.9.0)\n",
      "Requirement already satisfied: requests>=2.19.0 in c:\\users\\genaro\\appdata\\local\\programs\\python\\python310\\lib\\site-packages (from pandas_datareader) (2.28.0)\n",
      "Requirement already satisfied: pandas>=0.23 in c:\\users\\genaro\\appdata\\local\\programs\\python\\python310\\lib\\site-packages (from pandas_datareader) (1.4.2)\n",
      "Requirement already satisfied: python-dateutil>=2.8.1 in c:\\users\\genaro\\appdata\\local\\programs\\python\\python310\\lib\\site-packages (from pandas>=0.23->pandas_datareader) (2.8.2)\n",
      "Requirement already satisfied: numpy>=1.21.0 in c:\\users\\genaro\\appdata\\local\\programs\\python\\python310\\lib\\site-packages (from pandas>=0.23->pandas_datareader) (1.23.0)\n",
      "Requirement already satisfied: pytz>=2020.1 in c:\\users\\genaro\\appdata\\local\\programs\\python\\python310\\lib\\site-packages (from pandas>=0.23->pandas_datareader) (2022.1)\n",
      "Requirement already satisfied: idna<4,>=2.5 in c:\\users\\genaro\\appdata\\local\\programs\\python\\python310\\lib\\site-packages (from requests>=2.19.0->pandas_datareader) (3.3)\n",
      "Requirement already satisfied: charset-normalizer~=2.0.0 in c:\\users\\genaro\\appdata\\local\\programs\\python\\python310\\lib\\site-packages (from requests>=2.19.0->pandas_datareader) (2.0.12)\n",
      "Requirement already satisfied: certifi>=2017.4.17 in c:\\users\\genaro\\appdata\\local\\programs\\python\\python310\\lib\\site-packages (from requests>=2.19.0->pandas_datareader) (2022.6.15)\n",
      "Requirement already satisfied: urllib3<1.27,>=1.21.1 in c:\\users\\genaro\\appdata\\local\\programs\\python\\python310\\lib\\site-packages (from requests>=2.19.0->pandas_datareader) (1.26.9)\n",
      "Requirement already satisfied: six>=1.5 in c:\\users\\genaro\\appdata\\local\\programs\\python\\python310\\lib\\site-packages (from python-dateutil>=2.8.1->pandas>=0.23->pandas_datareader) (1.16.0)\n",
      "Note: you may need to restart the kernel to use updated packages.\n"
     ]
    },
    {
     "name": "stderr",
     "output_type": "stream",
     "text": [
      "WARNING: You are using pip version 22.0.4; however, version 22.1.2 is available.\n",
      "You should consider upgrading via the 'C:\\Users\\Genaro\\AppData\\Local\\Programs\\Python\\Python310\\python.exe -m pip install --upgrade pip' command.\n"
     ]
    }
   ],
   "source": [
    "pip install --upgrade pandas_datareader"
   ]
  },
  {
   "cell_type": "code",
   "execution_count": 2,
   "metadata": {
    "executionInfo": {
     "elapsed": 69,
     "status": "ok",
     "timestamp": 1655954857738,
     "user": {
      "displayName": "Ezra Julang",
      "userId": "08946344270958630974"
     },
     "user_tz": -420
    },
    "id": "tTTheGmCF2wa"
   },
   "outputs": [],
   "source": [
    "#This program uses RNN called LSTM to predict stock price of a corporation (Apple Inc.) Using the past 60 day stock price."
   ]
  },
  {
   "cell_type": "code",
   "execution_count": 3,
   "metadata": {
    "executionInfo": {
     "elapsed": 4016,
     "status": "ok",
     "timestamp": 1655954861712,
     "user": {
      "displayName": "Ezra Julang",
      "userId": "08946344270958630974"
     },
     "user_tz": -420
    },
    "id": "fLGnO8b3GPTe"
   },
   "outputs": [],
   "source": [
    "#Import libraries\n",
    "import math\n",
    "import pandas_datareader as web\n",
    "import numpy as np\n",
    "import pandas as pd\n",
    "from sklearn.preprocessing import MinMaxScaler\n",
    "from keras.models import Sequential\n",
    "from keras.layers import Dense, LSTM\n",
    "import matplotlib.pyplot as plt\n",
    "plt.style.use('fivethirtyeight')\n",
    "import datetime"
   ]
  },
  {
   "cell_type": "code",
   "execution_count": 5,
   "metadata": {
    "colab": {
     "base_uri": "https://localhost:8080/",
     "height": 455
    },
    "executionInfo": {
     "elapsed": 1216,
     "status": "ok",
     "timestamp": 1655954863593,
     "user": {
      "displayName": "Ezra Julang",
      "userId": "08946344270958630974"
     },
     "user_tz": -420
    },
    "id": "5xgSCWeJG9Ss",
    "outputId": "f79ec798-2555-48bd-e12c-44e387793e09"
   },
   "outputs": [
    {
     "name": "stderr",
     "output_type": "stream",
     "text": [
      "C:\\Users\\Genaro\\AppData\\Local\\Programs\\Python\\Python310\\lib\\site-packages\\pandas\\core\\arrays\\datetimes.py:2199: FutureWarning: The parsing of 'now' in pd.to_datetime without `utc=True` is deprecated. In a future version, this will match Timestamp('now') and Timestamp.now()\n",
      "  result, tz_parsed = tslib.array_to_datetime(\n"
     ]
    },
    {
     "data": {
      "text/html": [
       "<div>\n",
       "<style scoped>\n",
       "    .dataframe tbody tr th:only-of-type {\n",
       "        vertical-align: middle;\n",
       "    }\n",
       "\n",
       "    .dataframe tbody tr th {\n",
       "        vertical-align: top;\n",
       "    }\n",
       "\n",
       "    .dataframe thead th {\n",
       "        text-align: right;\n",
       "    }\n",
       "</style>\n",
       "<table border=\"1\" class=\"dataframe\">\n",
       "  <thead>\n",
       "    <tr style=\"text-align: right;\">\n",
       "      <th></th>\n",
       "      <th>High</th>\n",
       "      <th>Low</th>\n",
       "      <th>Open</th>\n",
       "      <th>Close</th>\n",
       "      <th>Volume</th>\n",
       "      <th>Adj Close</th>\n",
       "    </tr>\n",
       "    <tr>\n",
       "      <th>Date</th>\n",
       "      <th></th>\n",
       "      <th></th>\n",
       "      <th></th>\n",
       "      <th></th>\n",
       "      <th></th>\n",
       "      <th></th>\n",
       "    </tr>\n",
       "  </thead>\n",
       "  <tbody>\n",
       "    <tr>\n",
       "      <th>2014-09-17</th>\n",
       "      <td>468.174011</td>\n",
       "      <td>452.421997</td>\n",
       "      <td>465.864014</td>\n",
       "      <td>457.334015</td>\n",
       "      <td>21056800</td>\n",
       "      <td>457.334015</td>\n",
       "    </tr>\n",
       "    <tr>\n",
       "      <th>2014-09-18</th>\n",
       "      <td>456.859985</td>\n",
       "      <td>413.104004</td>\n",
       "      <td>456.859985</td>\n",
       "      <td>424.440002</td>\n",
       "      <td>34483200</td>\n",
       "      <td>424.440002</td>\n",
       "    </tr>\n",
       "    <tr>\n",
       "      <th>2014-09-19</th>\n",
       "      <td>427.834991</td>\n",
       "      <td>384.532013</td>\n",
       "      <td>424.102997</td>\n",
       "      <td>394.795990</td>\n",
       "      <td>37919700</td>\n",
       "      <td>394.795990</td>\n",
       "    </tr>\n",
       "    <tr>\n",
       "      <th>2014-09-20</th>\n",
       "      <td>423.295990</td>\n",
       "      <td>389.882996</td>\n",
       "      <td>394.673004</td>\n",
       "      <td>408.903992</td>\n",
       "      <td>36863600</td>\n",
       "      <td>408.903992</td>\n",
       "    </tr>\n",
       "    <tr>\n",
       "      <th>2014-09-21</th>\n",
       "      <td>412.425995</td>\n",
       "      <td>393.181000</td>\n",
       "      <td>408.084991</td>\n",
       "      <td>398.821014</td>\n",
       "      <td>26580100</td>\n",
       "      <td>398.821014</td>\n",
       "    </tr>\n",
       "    <tr>\n",
       "      <th>...</th>\n",
       "      <td>...</td>\n",
       "      <td>...</td>\n",
       "      <td>...</td>\n",
       "      <td>...</td>\n",
       "      <td>...</td>\n",
       "      <td>...</td>\n",
       "    </tr>\n",
       "    <tr>\n",
       "      <th>2022-06-19</th>\n",
       "      <td>20683.822266</td>\n",
       "      <td>18067.152344</td>\n",
       "      <td>19010.902344</td>\n",
       "      <td>20553.271484</td>\n",
       "      <td>35329942625</td>\n",
       "      <td>20553.271484</td>\n",
       "    </tr>\n",
       "    <tr>\n",
       "      <th>2022-06-20</th>\n",
       "      <td>20913.322266</td>\n",
       "      <td>19689.169922</td>\n",
       "      <td>20553.371094</td>\n",
       "      <td>20599.537109</td>\n",
       "      <td>30818458597</td>\n",
       "      <td>20599.537109</td>\n",
       "    </tr>\n",
       "    <tr>\n",
       "      <th>2022-06-21</th>\n",
       "      <td>21620.628906</td>\n",
       "      <td>20415.062500</td>\n",
       "      <td>20594.294922</td>\n",
       "      <td>20710.597656</td>\n",
       "      <td>28970212744</td>\n",
       "      <td>20710.597656</td>\n",
       "    </tr>\n",
       "    <tr>\n",
       "      <th>2022-06-22</th>\n",
       "      <td>20835.750000</td>\n",
       "      <td>19848.078125</td>\n",
       "      <td>20719.414062</td>\n",
       "      <td>19987.029297</td>\n",
       "      <td>28574793478</td>\n",
       "      <td>19987.029297</td>\n",
       "    </tr>\n",
       "    <tr>\n",
       "      <th>2022-06-23</th>\n",
       "      <td>20580.523438</td>\n",
       "      <td>19950.117188</td>\n",
       "      <td>19950.117188</td>\n",
       "      <td>20580.523438</td>\n",
       "      <td>29043951616</td>\n",
       "      <td>20580.523438</td>\n",
       "    </tr>\n",
       "  </tbody>\n",
       "</table>\n",
       "<p>2837 rows × 6 columns</p>\n",
       "</div>"
      ],
      "text/plain": [
       "                    High           Low          Open         Close  \\\n",
       "Date                                                                 \n",
       "2014-09-17    468.174011    452.421997    465.864014    457.334015   \n",
       "2014-09-18    456.859985    413.104004    456.859985    424.440002   \n",
       "2014-09-19    427.834991    384.532013    424.102997    394.795990   \n",
       "2014-09-20    423.295990    389.882996    394.673004    408.903992   \n",
       "2014-09-21    412.425995    393.181000    408.084991    398.821014   \n",
       "...                  ...           ...           ...           ...   \n",
       "2022-06-19  20683.822266  18067.152344  19010.902344  20553.271484   \n",
       "2022-06-20  20913.322266  19689.169922  20553.371094  20599.537109   \n",
       "2022-06-21  21620.628906  20415.062500  20594.294922  20710.597656   \n",
       "2022-06-22  20835.750000  19848.078125  20719.414062  19987.029297   \n",
       "2022-06-23  20580.523438  19950.117188  19950.117188  20580.523438   \n",
       "\n",
       "                 Volume     Adj Close  \n",
       "Date                                   \n",
       "2014-09-17     21056800    457.334015  \n",
       "2014-09-18     34483200    424.440002  \n",
       "2014-09-19     37919700    394.795990  \n",
       "2014-09-20     36863600    408.903992  \n",
       "2014-09-21     26580100    398.821014  \n",
       "...                 ...           ...  \n",
       "2022-06-19  35329942625  20553.271484  \n",
       "2022-06-20  30818458597  20599.537109  \n",
       "2022-06-21  28970212744  20710.597656  \n",
       "2022-06-22  28574793478  19987.029297  \n",
       "2022-06-23  29043951616  20580.523438  \n",
       "\n",
       "[2837 rows x 6 columns]"
      ]
     },
     "execution_count": 5,
     "metadata": {},
     "output_type": "execute_result"
    }
   ],
   "source": [
    "#Get the stock quote\n",
    "df = web.DataReader('BTC-USD', data_source = 'yahoo', start = '2014-09-14', end='now')\n",
    "df"
   ]
  },
  {
   "cell_type": "code",
   "execution_count": 6,
   "metadata": {
    "colab": {
     "base_uri": "https://localhost:8080/"
    },
    "executionInfo": {
     "elapsed": 40,
     "status": "ok",
     "timestamp": 1655954863598,
     "user": {
      "displayName": "Ezra Julang",
      "userId": "08946344270958630974"
     },
     "user_tz": -420
    },
    "id": "GcA9ecy7HNYP",
    "outputId": "7b52d40e-f7aa-4d34-cd34-cee6f49829ad"
   },
   "outputs": [
    {
     "data": {
      "text/plain": [
       "(2837, 6)"
      ]
     },
     "execution_count": 6,
     "metadata": {},
     "output_type": "execute_result"
    }
   ],
   "source": [
    "#Get the number of rows and columns in the dataset\n",
    "df.shape"
   ]
  },
  {
   "cell_type": "code",
   "execution_count": 7,
   "metadata": {
    "colab": {
     "base_uri": "https://localhost:8080/",
     "height": 558
    },
    "executionInfo": {
     "elapsed": 1751,
     "status": "ok",
     "timestamp": 1655954865315,
     "user": {
      "displayName": "Ezra Julang",
      "userId": "08946344270958630974"
     },
     "user_tz": -420
    },
    "id": "mQzgt5vdIZ-C",
    "outputId": "c470b316-9115-4d11-d1ef-eb3951ca1428"
   },
   "outputs": [
    {
     "data": {
      "image/png": "[encoded data removed]",
      "text/plain": [
       "<Figure size 1152x576 with 1 Axes>"
      ]
     },
     "metadata": {
      "needs_background": "light"
     },
     "output_type": "display_data"
    }
   ],
   "source": [
    "#Visualize the close price history\n",
    "plt.figure(figsize=(16,8))\n",
    "plt.title('Close Price History')\n",
    "plt.plot(df['Close'])\n",
    "plt.xlabel('Date', fontsize=18)\n",
    "plt.ylabel('Close Price in USD', fontsize = 18)\n",
    "plt.show()"
   ]
  },
  {
   "cell_type": "code",
   "execution_count": 8,
   "metadata": {
    "executionInfo": {
     "elapsed": 250,
     "status": "ok",
     "timestamp": 1655954865330,
     "user": {
      "displayName": "Ezra Julang",
      "userId": "08946344270958630974"
     },
     "user_tz": -420
    },
    "id": "kzHfYhVo3fle"
   },
   "outputs": [],
   "source": [
    "#Just set up scaler\n",
    "scaler = MinMaxScaler(feature_range=(0,1))"
   ]
  },
  {
   "cell_type": "code",
   "execution_count": 9,
   "metadata": {
    "colab": {
     "base_uri": "https://localhost:8080/",
     "height": 424
    },
    "executionInfo": {
     "elapsed": 246,
     "status": "ok",
     "timestamp": 1655954865332,
     "user": {
      "displayName": "Ezra Julang",
      "userId": "08946344270958630974"
     },
     "user_tz": -420
    },
    "id": "g9FzV7fwAa_B",
    "outputId": "4f1f9714-810e-42e6-d6c6-1f77c950f1bf"
   },
   "outputs": [
    {
     "data": {
      "text/html": [
       "<div>\n",
       "<style scoped>\n",
       "    .dataframe tbody tr th:only-of-type {\n",
       "        vertical-align: middle;\n",
       "    }\n",
       "\n",
       "    .dataframe tbody tr th {\n",
       "        vertical-align: top;\n",
       "    }\n",
       "\n",
       "    .dataframe thead th {\n",
       "        text-align: right;\n",
       "    }\n",
       "</style>\n",
       "<table border=\"1\" class=\"dataframe\">\n",
       "  <thead>\n",
       "    <tr style=\"text-align: right;\">\n",
       "      <th></th>\n",
       "      <th>Date</th>\n",
       "      <th>High</th>\n",
       "      <th>Low</th>\n",
       "      <th>Open</th>\n",
       "      <th>Close</th>\n",
       "      <th>Volume</th>\n",
       "      <th>Adj Close</th>\n",
       "    </tr>\n",
       "  </thead>\n",
       "  <tbody>\n",
       "    <tr>\n",
       "      <th>0</th>\n",
       "      <td>2014-09-17</td>\n",
       "      <td>468.174011</td>\n",
       "      <td>452.421997</td>\n",
       "      <td>465.864014</td>\n",
       "      <td>457.334015</td>\n",
       "      <td>21056800</td>\n",
       "      <td>457.334015</td>\n",
       "    </tr>\n",
       "    <tr>\n",
       "      <th>1</th>\n",
       "      <td>2014-09-18</td>\n",
       "      <td>456.859985</td>\n",
       "      <td>413.104004</td>\n",
       "      <td>456.859985</td>\n",
       "      <td>424.440002</td>\n",
       "      <td>34483200</td>\n",
       "      <td>424.440002</td>\n",
       "    </tr>\n",
       "    <tr>\n",
       "      <th>2</th>\n",
       "      <td>2014-09-19</td>\n",
       "      <td>427.834991</td>\n",
       "      <td>384.532013</td>\n",
       "      <td>424.102997</td>\n",
       "      <td>394.795990</td>\n",
       "      <td>37919700</td>\n",
       "      <td>394.795990</td>\n",
       "    </tr>\n",
       "    <tr>\n",
       "      <th>3</th>\n",
       "      <td>2014-09-20</td>\n",
       "      <td>423.295990</td>\n",
       "      <td>389.882996</td>\n",
       "      <td>394.673004</td>\n",
       "      <td>408.903992</td>\n",
       "      <td>36863600</td>\n",
       "      <td>408.903992</td>\n",
       "    </tr>\n",
       "    <tr>\n",
       "      <th>4</th>\n",
       "      <td>2014-09-21</td>\n",
       "      <td>412.425995</td>\n",
       "      <td>393.181000</td>\n",
       "      <td>408.084991</td>\n",
       "      <td>398.821014</td>\n",
       "      <td>26580100</td>\n",
       "      <td>398.821014</td>\n",
       "    </tr>\n",
       "    <tr>\n",
       "      <th>...</th>\n",
       "      <td>...</td>\n",
       "      <td>...</td>\n",
       "      <td>...</td>\n",
       "      <td>...</td>\n",
       "      <td>...</td>\n",
       "      <td>...</td>\n",
       "      <td>...</td>\n",
       "    </tr>\n",
       "    <tr>\n",
       "      <th>2832</th>\n",
       "      <td>2022-06-19</td>\n",
       "      <td>20683.822266</td>\n",
       "      <td>18067.152344</td>\n",
       "      <td>19010.902344</td>\n",
       "      <td>20553.271484</td>\n",
       "      <td>35329942625</td>\n",
       "      <td>20553.271484</td>\n",
       "    </tr>\n",
       "    <tr>\n",
       "      <th>2833</th>\n",
       "      <td>2022-06-20</td>\n",
       "      <td>20913.322266</td>\n",
       "      <td>19689.169922</td>\n",
       "      <td>20553.371094</td>\n",
       "      <td>20599.537109</td>\n",
       "      <td>30818458597</td>\n",
       "      <td>20599.537109</td>\n",
       "    </tr>\n",
       "    <tr>\n",
       "      <th>2834</th>\n",
       "      <td>2022-06-21</td>\n",
       "      <td>21620.628906</td>\n",
       "      <td>20415.062500</td>\n",
       "      <td>20594.294922</td>\n",
       "      <td>20710.597656</td>\n",
       "      <td>28970212744</td>\n",
       "      <td>20710.597656</td>\n",
       "    </tr>\n",
       "    <tr>\n",
       "      <th>2835</th>\n",
       "      <td>2022-06-22</td>\n",
       "      <td>20835.750000</td>\n",
       "      <td>19848.078125</td>\n",
       "      <td>20719.414062</td>\n",
       "      <td>19987.029297</td>\n",
       "      <td>28574793478</td>\n",
       "      <td>19987.029297</td>\n",
       "    </tr>\n",
       "    <tr>\n",
       "      <th>2836</th>\n",
       "      <td>2022-06-23</td>\n",
       "      <td>20580.523438</td>\n",
       "      <td>19950.117188</td>\n",
       "      <td>19950.117188</td>\n",
       "      <td>20580.523438</td>\n",
       "      <td>29043951616</td>\n",
       "      <td>20580.523438</td>\n",
       "    </tr>\n",
       "  </tbody>\n",
       "</table>\n",
       "<p>2837 rows × 7 columns</p>\n",
       "</div>"
      ],
      "text/plain": [
       "           Date          High           Low          Open         Close  \\\n",
       "0    2014-09-17    468.174011    452.421997    465.864014    457.334015   \n",
       "1    2014-09-18    456.859985    413.104004    456.859985    424.440002   \n",
       "2    2014-09-19    427.834991    384.532013    424.102997    394.795990   \n",
       "3    2014-09-20    423.295990    389.882996    394.673004    408.903992   \n",
       "4    2014-09-21    412.425995    393.181000    408.084991    398.821014   \n",
       "...         ...           ...           ...           ...           ...   \n",
       "2832 2022-06-19  20683.822266  18067.152344  19010.902344  20553.271484   \n",
       "2833 2022-06-20  20913.322266  19689.169922  20553.371094  20599.537109   \n",
       "2834 2022-06-21  21620.628906  20415.062500  20594.294922  20710.597656   \n",
       "2835 2022-06-22  20835.750000  19848.078125  20719.414062  19987.029297   \n",
       "2836 2022-06-23  20580.523438  19950.117188  19950.117188  20580.523438   \n",
       "\n",
       "           Volume     Adj Close  \n",
       "0        21056800    457.334015  \n",
       "1        34483200    424.440002  \n",
       "2        37919700    394.795990  \n",
       "3        36863600    408.903992  \n",
       "4        26580100    398.821014  \n",
       "...           ...           ...  \n",
       "2832  35329942625  20553.271484  \n",
       "2833  30818458597  20599.537109  \n",
       "2834  28970212744  20710.597656  \n",
       "2835  28574793478  19987.029297  \n",
       "2836  29043951616  20580.523438  \n",
       "\n",
       "[2837 rows x 7 columns]"
      ]
     },
     "execution_count": 9,
     "metadata": {},
     "output_type": "execute_result"
    }
   ],
   "source": [
    "#Reset index so it will be easier to watch the index later\n",
    "test_df = df.reset_index()\n",
    "test_df"
   ]
  },
  {
   "cell_type": "code",
   "execution_count": 10,
   "metadata": {
    "colab": {
     "base_uri": "https://localhost:8080/",
     "height": 424
    },
    "executionInfo": {
     "elapsed": 229,
     "status": "ok",
     "timestamp": 1655954865342,
     "user": {
      "displayName": "Ezra Julang",
      "userId": "08946344270958630974"
     },
     "user_tz": -420
    },
    "id": "UeVcu6MtHOhi",
    "outputId": "4cc9977d-29e7-4a48-983c-9f3e88288218"
   },
   "outputs": [
    {
     "data": {
      "text/html": [
       "<div>\n",
       "<style scoped>\n",
       "    .dataframe tbody tr th:only-of-type {\n",
       "        vertical-align: middle;\n",
       "    }\n",
       "\n",
       "    .dataframe tbody tr th {\n",
       "        vertical-align: top;\n",
       "    }\n",
       "\n",
       "    .dataframe thead th {\n",
       "        text-align: right;\n",
       "    }\n",
       "</style>\n",
       "<table border=\"1\" class=\"dataframe\">\n",
       "  <thead>\n",
       "    <tr style=\"text-align: right;\">\n",
       "      <th></th>\n",
       "      <th>Close</th>\n",
       "      <th>Date</th>\n",
       "    </tr>\n",
       "  </thead>\n",
       "  <tbody>\n",
       "    <tr>\n",
       "      <th>0</th>\n",
       "      <td>457.334015</td>\n",
       "      <td>2014-09-17</td>\n",
       "    </tr>\n",
       "    <tr>\n",
       "      <th>1</th>\n",
       "      <td>424.440002</td>\n",
       "      <td>2014-09-18</td>\n",
       "    </tr>\n",
       "    <tr>\n",
       "      <th>2</th>\n",
       "      <td>394.795990</td>\n",
       "      <td>2014-09-19</td>\n",
       "    </tr>\n",
       "    <tr>\n",
       "      <th>3</th>\n",
       "      <td>408.903992</td>\n",
       "      <td>2014-09-20</td>\n",
       "    </tr>\n",
       "    <tr>\n",
       "      <th>4</th>\n",
       "      <td>398.821014</td>\n",
       "      <td>2014-09-21</td>\n",
       "    </tr>\n",
       "    <tr>\n",
       "      <th>...</th>\n",
       "      <td>...</td>\n",
       "      <td>...</td>\n",
       "    </tr>\n",
       "    <tr>\n",
       "      <th>2832</th>\n",
       "      <td>20553.271484</td>\n",
       "      <td>2022-06-19</td>\n",
       "    </tr>\n",
       "    <tr>\n",
       "      <th>2833</th>\n",
       "      <td>20599.537109</td>\n",
       "      <td>2022-06-20</td>\n",
       "    </tr>\n",
       "    <tr>\n",
       "      <th>2834</th>\n",
       "      <td>20710.597656</td>\n",
       "      <td>2022-06-21</td>\n",
       "    </tr>\n",
       "    <tr>\n",
       "      <th>2835</th>\n",
       "      <td>19987.029297</td>\n",
       "      <td>2022-06-22</td>\n",
       "    </tr>\n",
       "    <tr>\n",
       "      <th>2836</th>\n",
       "      <td>20580.523438</td>\n",
       "      <td>2022-06-23</td>\n",
       "    </tr>\n",
       "  </tbody>\n",
       "</table>\n",
       "<p>2837 rows × 2 columns</p>\n",
       "</div>"
      ],
      "text/plain": [
       "             Close       Date\n",
       "0       457.334015 2014-09-17\n",
       "1       424.440002 2014-09-18\n",
       "2       394.795990 2014-09-19\n",
       "3       408.903992 2014-09-20\n",
       "4       398.821014 2014-09-21\n",
       "...            ...        ...\n",
       "2832  20553.271484 2022-06-19\n",
       "2833  20599.537109 2022-06-20\n",
       "2834  20710.597656 2022-06-21\n",
       "2835  19987.029297 2022-06-22\n",
       "2836  20580.523438 2022-06-23\n",
       "\n",
       "[2837 rows x 2 columns]"
      ]
     },
     "execution_count": 10,
     "metadata": {},
     "output_type": "execute_result"
    }
   ],
   "source": [
    "#This block to limit training data if needed, we dont use test data in here because we just want to predict future price\n",
    "clostest = test_df.filter(['Close', 'Date'])\n",
    "#clostest = clostest[-5000:]\n",
    "clostest = clostest.reset_index()\n",
    "clostest = clostest.drop(['index'], axis = 1)\n",
    "clostest"
   ]
  },
  {
   "cell_type": "code",
   "execution_count": 11,
   "metadata": {
    "executionInfo": {
     "elapsed": 220,
     "status": "ok",
     "timestamp": 1655954865347,
     "user": {
      "displayName": "Ezra Julang",
      "userId": "08946344270958630974"
     },
     "user_tz": -420
    },
    "id": "IIQVWcbFHwJD"
   },
   "outputs": [],
   "source": [
    "def input_prediction(table):\n",
    "\n",
    "  closecol = table.filter(['Close'])\n",
    "\n",
    "  inlast_60_days = closecol.values\n",
    "\n",
    "\n",
    "\n",
    "#scale the data to values between 0 and 1\n",
    "  inlast_60_days_scaled = scaler.fit_transform(inlast_60_days)\n",
    "\n",
    "  train_data = inlast_60_days_scaled\n",
    "\n",
    "  x_train = [] #independent training variables\n",
    "  y_train = [] #dependent training variables\n",
    "\n",
    "  for i in range(60, len(train_data)):\n",
    "    x_train.append(train_data[i-60:i,0])\n",
    "    y_train.append(train_data[i, 0])\n",
    "\n",
    "\n",
    "\n",
    "  x_train, y_train = np.array(x_train), np.array(y_train)\n",
    "\n",
    "#Reshape the data\n",
    "  x_train = np.reshape(x_train, (x_train.shape[0], x_train.shape[1], 1))\n",
    "\n",
    "\n",
    "  #Build LSTM Model\n",
    "  model = Sequential()\n",
    "  model.add(LSTM(50, return_sequences=True, input_shape=(x_train.shape[1], 1)))\n",
    "  model.add(LSTM(50, return_sequences=False))\n",
    "  model.add(Dense(25))\n",
    "  model.add(Dense(1))\n",
    "\n",
    "  #Compile the model\n",
    "  model.compile(optimizer='adam', loss='mean_squared_error')\n",
    "\n",
    "#This is where we fit data into model for train data\n",
    "  model.fit(x_train, y_train, batch_size = 1, epochs = 1)\n",
    "\n",
    "\n",
    "\n",
    "#create empty list\n",
    "  inx_test = []\n",
    "\n",
    "#append the past 60 days\n",
    "  inx_test.append(inlast_60_days_scaled[-60:])\n",
    "\n",
    "#convert the x_test to a numpy array\n",
    "  inx_test = np.array(inx_test)\n",
    "\n",
    "#reshape the data\n",
    "  inx_test = np.reshape(inx_test, (inx_test.shape[0], inx_test.shape[1], 1))\n",
    "\n",
    "#get predicted scale price\n",
    "  inpred_price = model.predict(inx_test)\n",
    "\n",
    "#undo scaling\n",
    "  inpred_price = scaler.inverse_transform(inpred_price)\n",
    "\n",
    "  return float(inpred_price)"
   ]
  },
  {
   "cell_type": "code",
   "execution_count": 12,
   "metadata": {
    "colab": {
     "base_uri": "https://localhost:8080/",
     "height": 419
    },
    "executionInfo": {
     "elapsed": 13376,
     "status": "error",
     "timestamp": 1655954878530,
     "user": {
      "displayName": "Ezra Julang",
      "userId": "08946344270958630974"
     },
     "user_tz": -420
    },
    "id": "DZ_e4mTSJL_h",
    "outputId": "cac2bdb8-f979-4b67-a412-308f8df50496"
   },
   "outputs": [
    {
     "name": "stdout",
     "output_type": "stream",
     "text": [
      "2777/2777 [==============================] - 37s 13ms/step - loss: 0.0015\n",
      "1/1 [==============================] - 1s 564ms/step\n"
     ]
    },
    {
     "name": "stderr",
     "output_type": "stream",
     "text": [
      "C:\\Users\\Genaro\\AppData\\Local\\Temp\\ipykernel_25216\\3492738933.py:10: FutureWarning: The frame.append method is deprecated and will be removed from pandas in a future version. Use pandas.concat instead.\n",
      "  clos = clos.append(newclos)\n",
      "C:\\Users\\Genaro\\AppData\\Local\\Temp\\ipykernel_25216\\3492738933.py:12: FutureWarning: The frame.append method is deprecated and will be removed from pandas in a future version. Use pandas.concat instead.\n",
      "  clostest = clostest.append(newclos)\n"
     ]
    },
    {
     "name": "stdout",
     "output_type": "stream",
     "text": [
      "2778/2778 [==============================] - 35s 12ms/step - loss: 0.0017\n",
      "1/1 [==============================] - 1s 513ms/step\n"
     ]
    },
    {
     "name": "stderr",
     "output_type": "stream",
     "text": [
      "C:\\Users\\Genaro\\AppData\\Local\\Temp\\ipykernel_25216\\3492738933.py:10: FutureWarning: The frame.append method is deprecated and will be removed from pandas in a future version. Use pandas.concat instead.\n",
      "  clos = clos.append(newclos)\n",
      "C:\\Users\\Genaro\\AppData\\Local\\Temp\\ipykernel_25216\\3492738933.py:12: FutureWarning: The frame.append method is deprecated and will be removed from pandas in a future version. Use pandas.concat instead.\n",
      "  clostest = clostest.append(newclos)\n"
     ]
    },
    {
     "name": "stdout",
     "output_type": "stream",
     "text": [
      "2779/2779 [==============================] - 33s 11ms/step - loss: 0.0018\n",
      "1/1 [==============================] - 1s 515ms/step\n"
     ]
    },
    {
     "name": "stderr",
     "output_type": "stream",
     "text": [
      "C:\\Users\\Genaro\\AppData\\Local\\Temp\\ipykernel_25216\\3492738933.py:10: FutureWarning: The frame.append method is deprecated and will be removed from pandas in a future version. Use pandas.concat instead.\n",
      "  clos = clos.append(newclos)\n",
      "C:\\Users\\Genaro\\AppData\\Local\\Temp\\ipykernel_25216\\3492738933.py:12: FutureWarning: The frame.append method is deprecated and will be removed from pandas in a future version. Use pandas.concat instead.\n",
      "  clostest = clostest.append(newclos)\n"
     ]
    },
    {
     "name": "stdout",
     "output_type": "stream",
     "text": [
      "2780/2780 [==============================] - 36s 12ms/step - loss: 0.0013\n",
      "1/1 [==============================] - 1s 646ms/step\n"
     ]
    },
    {
     "name": "stderr",
     "output_type": "stream",
     "text": [
      "C:\\Users\\Genaro\\AppData\\Local\\Temp\\ipykernel_25216\\3492738933.py:10: FutureWarning: The frame.append method is deprecated and will be removed from pandas in a future version. Use pandas.concat instead.\n",
      "  clos = clos.append(newclos)\n",
      "C:\\Users\\Genaro\\AppData\\Local\\Temp\\ipykernel_25216\\3492738933.py:12: FutureWarning: The frame.append method is deprecated and will be removed from pandas in a future version. Use pandas.concat instead.\n",
      "  clostest = clostest.append(newclos)\n"
     ]
    },
    {
     "name": "stdout",
     "output_type": "stream",
     "text": [
      "2781/2781 [==============================] - 36s 12ms/step - loss: 0.0017\n",
      "WARNING:tensorflow:5 out of the last 5 calls to <function Model.make_predict_function.<locals>.predict_function at 0x0000027696F0F7F0> triggered tf.function retracing. Tracing is expensive and the excessive number of tracings could be due to (1) creating @tf.function repeatedly in a loop, (2) passing tensors with different shapes, (3) passing Python objects instead of tensors. For (1), please define your @tf.function outside of the loop. For (2), @tf.function has reduce_retracing=True option that can avoid unnecessary retracing. For (3), please refer to https://www.tensorflow.org/guide/function#controlling_retracing and https://www.tensorflow.org/api_docs/python/tf/function for  more details.\n",
      "1/1 [==============================] - 1s 530ms/step\n"
     ]
    },
    {
     "name": "stderr",
     "output_type": "stream",
     "text": [
      "C:\\Users\\Genaro\\AppData\\Local\\Temp\\ipykernel_25216\\3492738933.py:10: FutureWarning: The frame.append method is deprecated and will be removed from pandas in a future version. Use pandas.concat instead.\n",
      "  clos = clos.append(newclos)\n",
      "C:\\Users\\Genaro\\AppData\\Local\\Temp\\ipykernel_25216\\3492738933.py:12: FutureWarning: The frame.append method is deprecated and will be removed from pandas in a future version. Use pandas.concat instead.\n",
      "  clostest = clostest.append(newclos)\n"
     ]
    },
    {
     "name": "stdout",
     "output_type": "stream",
     "text": [
      "2782/2782 [==============================] - 34s 12ms/step - loss: 0.0017\n",
      "WARNING:tensorflow:6 out of the last 6 calls to <function Model.make_predict_function.<locals>.predict_function at 0x0000027699256200> triggered tf.function retracing. Tracing is expensive and the excessive number of tracings could be due to (1) creating @tf.function repeatedly in a loop, (2) passing tensors with different shapes, (3) passing Python objects instead of tensors. For (1), please define your @tf.function outside of the loop. For (2), @tf.function has reduce_retracing=True option that can avoid unnecessary retracing. For (3), please refer to https://www.tensorflow.org/guide/function#controlling_retracing and https://www.tensorflow.org/api_docs/python/tf/function for  more details.\n",
      "1/1 [==============================] - 1s 512ms/step\n"
     ]
    },
    {
     "name": "stderr",
     "output_type": "stream",
     "text": [
      "C:\\Users\\Genaro\\AppData\\Local\\Temp\\ipykernel_25216\\3492738933.py:10: FutureWarning: The frame.append method is deprecated and will be removed from pandas in a future version. Use pandas.concat instead.\n",
      "  clos = clos.append(newclos)\n",
      "C:\\Users\\Genaro\\AppData\\Local\\Temp\\ipykernel_25216\\3492738933.py:12: FutureWarning: The frame.append method is deprecated and will be removed from pandas in a future version. Use pandas.concat instead.\n",
      "  clostest = clostest.append(newclos)\n"
     ]
    },
    {
     "name": "stdout",
     "output_type": "stream",
     "text": [
      "2783/2783 [==============================] - 33s 11ms/step - loss: 0.0015\n",
      "1/1 [==============================] - 1s 524ms/step\n"
     ]
    },
    {
     "name": "stderr",
     "output_type": "stream",
     "text": [
      "C:\\Users\\Genaro\\AppData\\Local\\Temp\\ipykernel_25216\\3492738933.py:10: FutureWarning: The frame.append method is deprecated and will be removed from pandas in a future version. Use pandas.concat instead.\n",
      "  clos = clos.append(newclos)\n",
      "C:\\Users\\Genaro\\AppData\\Local\\Temp\\ipykernel_25216\\3492738933.py:12: FutureWarning: The frame.append method is deprecated and will be removed from pandas in a future version. Use pandas.concat instead.\n",
      "  clostest = clostest.append(newclos)\n"
     ]
    },
    {
     "name": "stdout",
     "output_type": "stream",
     "text": [
      "2784/2784 [==============================] - 35s 12ms/step - loss: 0.0017\n",
      "1/1 [==============================] - 1s 518ms/step\n"
     ]
    },
    {
     "name": "stderr",
     "output_type": "stream",
     "text": [
      "C:\\Users\\Genaro\\AppData\\Local\\Temp\\ipykernel_25216\\3492738933.py:10: FutureWarning: The frame.append method is deprecated and will be removed from pandas in a future version. Use pandas.concat instead.\n",
      "  clos = clos.append(newclos)\n",
      "C:\\Users\\Genaro\\AppData\\Local\\Temp\\ipykernel_25216\\3492738933.py:12: FutureWarning: The frame.append method is deprecated and will be removed from pandas in a future version. Use pandas.concat instead.\n",
      "  clostest = clostest.append(newclos)\n"
     ]
    },
    {
     "name": "stdout",
     "output_type": "stream",
     "text": [
      "2785/2785 [==============================] - 35s 12ms/step - loss: 0.0019\n",
      "1/1 [==============================] - 1s 513ms/step\n"
     ]
    },
    {
     "name": "stderr",
     "output_type": "stream",
     "text": [
      "C:\\Users\\Genaro\\AppData\\Local\\Temp\\ipykernel_25216\\3492738933.py:10: FutureWarning: The frame.append method is deprecated and will be removed from pandas in a future version. Use pandas.concat instead.\n",
      "  clos = clos.append(newclos)\n",
      "C:\\Users\\Genaro\\AppData\\Local\\Temp\\ipykernel_25216\\3492738933.py:12: FutureWarning: The frame.append method is deprecated and will be removed from pandas in a future version. Use pandas.concat instead.\n",
      "  clostest = clostest.append(newclos)\n"
     ]
    },
    {
     "name": "stdout",
     "output_type": "stream",
     "text": [
      "2786/2786 [==============================] - 34s 11ms/step - loss: 0.0016\n",
      "1/1 [==============================] - 1s 519ms/step\n"
     ]
    },
    {
     "name": "stderr",
     "output_type": "stream",
     "text": [
      "C:\\Users\\Genaro\\AppData\\Local\\Temp\\ipykernel_25216\\3492738933.py:10: FutureWarning: The frame.append method is deprecated and will be removed from pandas in a future version. Use pandas.concat instead.\n",
      "  clos = clos.append(newclos)\n",
      "C:\\Users\\Genaro\\AppData\\Local\\Temp\\ipykernel_25216\\3492738933.py:12: FutureWarning: The frame.append method is deprecated and will be removed from pandas in a future version. Use pandas.concat instead.\n",
      "  clostest = clostest.append(newclos)\n"
     ]
    },
    {
     "name": "stdout",
     "output_type": "stream",
     "text": [
      "2787/2787 [==============================] - 36s 12ms/step - loss: 0.0015\n",
      "1/1 [==============================] - 1s 517ms/step\n"
     ]
    },
    {
     "name": "stderr",
     "output_type": "stream",
     "text": [
      "C:\\Users\\Genaro\\AppData\\Local\\Temp\\ipykernel_25216\\3492738933.py:10: FutureWarning: The frame.append method is deprecated and will be removed from pandas in a future version. Use pandas.concat instead.\n",
      "  clos = clos.append(newclos)\n",
      "C:\\Users\\Genaro\\AppData\\Local\\Temp\\ipykernel_25216\\3492738933.py:12: FutureWarning: The frame.append method is deprecated and will be removed from pandas in a future version. Use pandas.concat instead.\n",
      "  clostest = clostest.append(newclos)\n"
     ]
    },
    {
     "name": "stdout",
     "output_type": "stream",
     "text": [
      "2788/2788 [==============================] - 35s 12ms/step - loss: 0.0017\n",
      "1/1 [==============================] - 1s 514ms/step\n"
     ]
    },
    {
     "name": "stderr",
     "output_type": "stream",
     "text": [
      "C:\\Users\\Genaro\\AppData\\Local\\Temp\\ipykernel_25216\\3492738933.py:10: FutureWarning: The frame.append method is deprecated and will be removed from pandas in a future version. Use pandas.concat instead.\n",
      "  clos = clos.append(newclos)\n",
      "C:\\Users\\Genaro\\AppData\\Local\\Temp\\ipykernel_25216\\3492738933.py:12: FutureWarning: The frame.append method is deprecated and will be removed from pandas in a future version. Use pandas.concat instead.\n",
      "  clostest = clostest.append(newclos)\n"
     ]
    },
    {
     "name": "stdout",
     "output_type": "stream",
     "text": [
      "2789/2789 [==============================] - 34s 12ms/step - loss: 0.0018\n",
      "1/1 [==============================] - 1s 518ms/step\n"
     ]
    },
    {
     "name": "stderr",
     "output_type": "stream",
     "text": [
      "C:\\Users\\Genaro\\AppData\\Local\\Temp\\ipykernel_25216\\3492738933.py:10: FutureWarning: The frame.append method is deprecated and will be removed from pandas in a future version. Use pandas.concat instead.\n",
      "  clos = clos.append(newclos)\n",
      "C:\\Users\\Genaro\\AppData\\Local\\Temp\\ipykernel_25216\\3492738933.py:12: FutureWarning: The frame.append method is deprecated and will be removed from pandas in a future version. Use pandas.concat instead.\n",
      "  clostest = clostest.append(newclos)\n"
     ]
    },
    {
     "name": "stdout",
     "output_type": "stream",
     "text": [
      "2790/2790 [==============================] - 34s 12ms/step - loss: 0.0017\n",
      "1/1 [==============================] - 1s 536ms/step\n"
     ]
    },
    {
     "name": "stderr",
     "output_type": "stream",
     "text": [
      "C:\\Users\\Genaro\\AppData\\Local\\Temp\\ipykernel_25216\\3492738933.py:10: FutureWarning: The frame.append method is deprecated and will be removed from pandas in a future version. Use pandas.concat instead.\n",
      "  clos = clos.append(newclos)\n",
      "C:\\Users\\Genaro\\AppData\\Local\\Temp\\ipykernel_25216\\3492738933.py:12: FutureWarning: The frame.append method is deprecated and will be removed from pandas in a future version. Use pandas.concat instead.\n",
      "  clostest = clostest.append(newclos)\n"
     ]
    },
    {
     "name": "stdout",
     "output_type": "stream",
     "text": [
      "2791/2791 [==============================] - 35s 12ms/step - loss: 0.0016\n",
      "1/1 [==============================] - 1s 516ms/step\n"
     ]
    },
    {
     "name": "stderr",
     "output_type": "stream",
     "text": [
      "C:\\Users\\Genaro\\AppData\\Local\\Temp\\ipykernel_25216\\3492738933.py:10: FutureWarning: The frame.append method is deprecated and will be removed from pandas in a future version. Use pandas.concat instead.\n",
      "  clos = clos.append(newclos)\n",
      "C:\\Users\\Genaro\\AppData\\Local\\Temp\\ipykernel_25216\\3492738933.py:12: FutureWarning: The frame.append method is deprecated and will be removed from pandas in a future version. Use pandas.concat instead.\n",
      "  clostest = clostest.append(newclos)\n"
     ]
    },
    {
     "name": "stdout",
     "output_type": "stream",
     "text": [
      "2792/2792 [==============================] - 34s 12ms/step - loss: 0.0014\n",
      "1/1 [==============================] - 1s 514ms/step\n"
     ]
    },
    {
     "name": "stderr",
     "output_type": "stream",
     "text": [
      "C:\\Users\\Genaro\\AppData\\Local\\Temp\\ipykernel_25216\\3492738933.py:10: FutureWarning: The frame.append method is deprecated and will be removed from pandas in a future version. Use pandas.concat instead.\n",
      "  clos = clos.append(newclos)\n",
      "C:\\Users\\Genaro\\AppData\\Local\\Temp\\ipykernel_25216\\3492738933.py:12: FutureWarning: The frame.append method is deprecated and will be removed from pandas in a future version. Use pandas.concat instead.\n",
      "  clostest = clostest.append(newclos)\n"
     ]
    },
    {
     "name": "stdout",
     "output_type": "stream",
     "text": [
      "2793/2793 [==============================] - 35s 12ms/step - loss: 0.0015\n",
      "1/1 [==============================] - 1s 525ms/step\n"
     ]
    },
    {
     "name": "stderr",
     "output_type": "stream",
     "text": [
      "C:\\Users\\Genaro\\AppData\\Local\\Temp\\ipykernel_25216\\3492738933.py:10: FutureWarning: The frame.append method is deprecated and will be removed from pandas in a future version. Use pandas.concat instead.\n",
      "  clos = clos.append(newclos)\n",
      "C:\\Users\\Genaro\\AppData\\Local\\Temp\\ipykernel_25216\\3492738933.py:12: FutureWarning: The frame.append method is deprecated and will be removed from pandas in a future version. Use pandas.concat instead.\n",
      "  clostest = clostest.append(newclos)\n"
     ]
    },
    {
     "name": "stdout",
     "output_type": "stream",
     "text": [
      "2794/2794 [==============================] - 35s 12ms/step - loss: 0.0013\n",
      "1/1 [==============================] - 1s 525ms/step\n"
     ]
    },
    {
     "name": "stderr",
     "output_type": "stream",
     "text": [
      "C:\\Users\\Genaro\\AppData\\Local\\Temp\\ipykernel_25216\\3492738933.py:10: FutureWarning: The frame.append method is deprecated and will be removed from pandas in a future version. Use pandas.concat instead.\n",
      "  clos = clos.append(newclos)\n",
      "C:\\Users\\Genaro\\AppData\\Local\\Temp\\ipykernel_25216\\3492738933.py:12: FutureWarning: The frame.append method is deprecated and will be removed from pandas in a future version. Use pandas.concat instead.\n",
      "  clostest = clostest.append(newclos)\n"
     ]
    },
    {
     "name": "stdout",
     "output_type": "stream",
     "text": [
      "2795/2795 [==============================] - 34s 11ms/step - loss: 0.0016\n",
      "1/1 [==============================] - 1s 517ms/step\n"
     ]
    },
    {
     "name": "stderr",
     "output_type": "stream",
     "text": [
      "C:\\Users\\Genaro\\AppData\\Local\\Temp\\ipykernel_25216\\3492738933.py:10: FutureWarning: The frame.append method is deprecated and will be removed from pandas in a future version. Use pandas.concat instead.\n",
      "  clos = clos.append(newclos)\n",
      "C:\\Users\\Genaro\\AppData\\Local\\Temp\\ipykernel_25216\\3492738933.py:12: FutureWarning: The frame.append method is deprecated and will be removed from pandas in a future version. Use pandas.concat instead.\n",
      "  clostest = clostest.append(newclos)\n"
     ]
    },
    {
     "name": "stdout",
     "output_type": "stream",
     "text": [
      "2796/2796 [==============================] - 35s 12ms/step - loss: 0.0013\n",
      "1/1 [==============================] - 1s 514ms/step\n"
     ]
    },
    {
     "name": "stderr",
     "output_type": "stream",
     "text": [
      "C:\\Users\\Genaro\\AppData\\Local\\Temp\\ipykernel_25216\\3492738933.py:10: FutureWarning: The frame.append method is deprecated and will be removed from pandas in a future version. Use pandas.concat instead.\n",
      "  clos = clos.append(newclos)\n",
      "C:\\Users\\Genaro\\AppData\\Local\\Temp\\ipykernel_25216\\3492738933.py:12: FutureWarning: The frame.append method is deprecated and will be removed from pandas in a future version. Use pandas.concat instead.\n",
      "  clostest = clostest.append(newclos)\n"
     ]
    },
    {
     "name": "stdout",
     "output_type": "stream",
     "text": [
      "2797/2797 [==============================] - 34s 12ms/step - loss: 0.0016\n",
      "1/1 [==============================] - 1s 518ms/step\n"
     ]
    },
    {
     "name": "stderr",
     "output_type": "stream",
     "text": [
      "C:\\Users\\Genaro\\AppData\\Local\\Temp\\ipykernel_25216\\3492738933.py:10: FutureWarning: The frame.append method is deprecated and will be removed from pandas in a future version. Use pandas.concat instead.\n",
      "  clos = clos.append(newclos)\n",
      "C:\\Users\\Genaro\\AppData\\Local\\Temp\\ipykernel_25216\\3492738933.py:12: FutureWarning: The frame.append method is deprecated and will be removed from pandas in a future version. Use pandas.concat instead.\n",
      "  clostest = clostest.append(newclos)\n"
     ]
    },
    {
     "name": "stdout",
     "output_type": "stream",
     "text": [
      "2798/2798 [==============================] - 35s 12ms/step - loss: 0.0017\n",
      "1/1 [==============================] - 1s 533ms/step\n"
     ]
    },
    {
     "name": "stderr",
     "output_type": "stream",
     "text": [
      "C:\\Users\\Genaro\\AppData\\Local\\Temp\\ipykernel_25216\\3492738933.py:10: FutureWarning: The frame.append method is deprecated and will be removed from pandas in a future version. Use pandas.concat instead.\n",
      "  clos = clos.append(newclos)\n",
      "C:\\Users\\Genaro\\AppData\\Local\\Temp\\ipykernel_25216\\3492738933.py:12: FutureWarning: The frame.append method is deprecated and will be removed from pandas in a future version. Use pandas.concat instead.\n",
      "  clostest = clostest.append(newclos)\n"
     ]
    },
    {
     "name": "stdout",
     "output_type": "stream",
     "text": [
      "2799/2799 [==============================] - 36s 12ms/step - loss: 0.0014\n",
      "1/1 [==============================] - 1s 510ms/step\n"
     ]
    },
    {
     "name": "stderr",
     "output_type": "stream",
     "text": [
      "C:\\Users\\Genaro\\AppData\\Local\\Temp\\ipykernel_25216\\3492738933.py:10: FutureWarning: The frame.append method is deprecated and will be removed from pandas in a future version. Use pandas.concat instead.\n",
      "  clos = clos.append(newclos)\n",
      "C:\\Users\\Genaro\\AppData\\Local\\Temp\\ipykernel_25216\\3492738933.py:12: FutureWarning: The frame.append method is deprecated and will be removed from pandas in a future version. Use pandas.concat instead.\n",
      "  clostest = clostest.append(newclos)\n"
     ]
    },
    {
     "name": "stdout",
     "output_type": "stream",
     "text": [
      "2800/2800 [==============================] - 35s 12ms/step - loss: 0.0020\n",
      "1/1 [==============================] - 1s 524ms/step\n"
     ]
    },
    {
     "name": "stderr",
     "output_type": "stream",
     "text": [
      "C:\\Users\\Genaro\\AppData\\Local\\Temp\\ipykernel_25216\\3492738933.py:10: FutureWarning: The frame.append method is deprecated and will be removed from pandas in a future version. Use pandas.concat instead.\n",
      "  clos = clos.append(newclos)\n",
      "C:\\Users\\Genaro\\AppData\\Local\\Temp\\ipykernel_25216\\3492738933.py:12: FutureWarning: The frame.append method is deprecated and will be removed from pandas in a future version. Use pandas.concat instead.\n",
      "  clostest = clostest.append(newclos)\n"
     ]
    },
    {
     "name": "stdout",
     "output_type": "stream",
     "text": [
      "2801/2801 [==============================] - 36s 12ms/step - loss: 0.0019\n",
      "1/1 [==============================] - 1s 513ms/step\n"
     ]
    },
    {
     "name": "stderr",
     "output_type": "stream",
     "text": [
      "C:\\Users\\Genaro\\AppData\\Local\\Temp\\ipykernel_25216\\3492738933.py:10: FutureWarning: The frame.append method is deprecated and will be removed from pandas in a future version. Use pandas.concat instead.\n",
      "  clos = clos.append(newclos)\n",
      "C:\\Users\\Genaro\\AppData\\Local\\Temp\\ipykernel_25216\\3492738933.py:12: FutureWarning: The frame.append method is deprecated and will be removed from pandas in a future version. Use pandas.concat instead.\n",
      "  clostest = clostest.append(newclos)\n"
     ]
    },
    {
     "name": "stdout",
     "output_type": "stream",
     "text": [
      "2802/2802 [==============================] - 36s 12ms/step - loss: 0.0015\n",
      "1/1 [==============================] - 1s 517ms/step\n"
     ]
    },
    {
     "name": "stderr",
     "output_type": "stream",
     "text": [
      "C:\\Users\\Genaro\\AppData\\Local\\Temp\\ipykernel_25216\\3492738933.py:10: FutureWarning: The frame.append method is deprecated and will be removed from pandas in a future version. Use pandas.concat instead.\n",
      "  clos = clos.append(newclos)\n",
      "C:\\Users\\Genaro\\AppData\\Local\\Temp\\ipykernel_25216\\3492738933.py:12: FutureWarning: The frame.append method is deprecated and will be removed from pandas in a future version. Use pandas.concat instead.\n",
      "  clostest = clostest.append(newclos)\n"
     ]
    },
    {
     "name": "stdout",
     "output_type": "stream",
     "text": [
      "2803/2803 [==============================] - 35s 12ms/step - loss: 0.0015\n",
      "1/1 [==============================] - 1s 516ms/step\n"
     ]
    },
    {
     "name": "stderr",
     "output_type": "stream",
     "text": [
      "C:\\Users\\Genaro\\AppData\\Local\\Temp\\ipykernel_25216\\3492738933.py:10: FutureWarning: The frame.append method is deprecated and will be removed from pandas in a future version. Use pandas.concat instead.\n",
      "  clos = clos.append(newclos)\n",
      "C:\\Users\\Genaro\\AppData\\Local\\Temp\\ipykernel_25216\\3492738933.py:12: FutureWarning: The frame.append method is deprecated and will be removed from pandas in a future version. Use pandas.concat instead.\n",
      "  clostest = clostest.append(newclos)\n"
     ]
    },
    {
     "name": "stdout",
     "output_type": "stream",
     "text": [
      "2804/2804 [==============================] - 35s 12ms/step - loss: 0.0017\n",
      "1/1 [==============================] - 1s 520ms/step\n"
     ]
    },
    {
     "name": "stderr",
     "output_type": "stream",
     "text": [
      "C:\\Users\\Genaro\\AppData\\Local\\Temp\\ipykernel_25216\\3492738933.py:10: FutureWarning: The frame.append method is deprecated and will be removed from pandas in a future version. Use pandas.concat instead.\n",
      "  clos = clos.append(newclos)\n",
      "C:\\Users\\Genaro\\AppData\\Local\\Temp\\ipykernel_25216\\3492738933.py:12: FutureWarning: The frame.append method is deprecated and will be removed from pandas in a future version. Use pandas.concat instead.\n",
      "  clostest = clostest.append(newclos)\n"
     ]
    },
    {
     "name": "stdout",
     "output_type": "stream",
     "text": [
      "2805/2805 [==============================] - 36s 12ms/step - loss: 0.0014\n",
      "1/1 [==============================] - 1s 514ms/step\n"
     ]
    },
    {
     "name": "stderr",
     "output_type": "stream",
     "text": [
      "C:\\Users\\Genaro\\AppData\\Local\\Temp\\ipykernel_25216\\3492738933.py:10: FutureWarning: The frame.append method is deprecated and will be removed from pandas in a future version. Use pandas.concat instead.\n",
      "  clos = clos.append(newclos)\n",
      "C:\\Users\\Genaro\\AppData\\Local\\Temp\\ipykernel_25216\\3492738933.py:12: FutureWarning: The frame.append method is deprecated and will be removed from pandas in a future version. Use pandas.concat instead.\n",
      "  clostest = clostest.append(newclos)\n"
     ]
    },
    {
     "name": "stdout",
     "output_type": "stream",
     "text": [
      "2806/2806 [==============================] - 34s 12ms/step - loss: 0.0019\n",
      "1/1 [==============================] - 1s 516ms/step\n"
     ]
    },
    {
     "name": "stderr",
     "output_type": "stream",
     "text": [
      "C:\\Users\\Genaro\\AppData\\Local\\Temp\\ipykernel_25216\\3492738933.py:10: FutureWarning: The frame.append method is deprecated and will be removed from pandas in a future version. Use pandas.concat instead.\n",
      "  clos = clos.append(newclos)\n",
      "C:\\Users\\Genaro\\AppData\\Local\\Temp\\ipykernel_25216\\3492738933.py:12: FutureWarning: The frame.append method is deprecated and will be removed from pandas in a future version. Use pandas.concat instead.\n",
      "  clostest = clostest.append(newclos)\n"
     ]
    }
   ],
   "source": [
    "#Using second last price because the last price still changing over time\n",
    "clos = pd.DataFrame({\"Date\":[test_df.iloc[-2,0]], \"Close\":[test_df.iloc[-2,1]]})\n",
    "\n",
    "#Running the prediction for 10 days ahead (because i use in range (1,11). It can be changed if needed)\n",
    "for i in range(1,31):\n",
    "  newvalpred = input_prediction(clostest)\n",
    "  delta = datetime.timedelta(days=1)\n",
    "  start_date = clostest.iloc[-1,1]\n",
    "  newclos = pd.DataFrame({\"Date\":[start_date+delta], \"Close\":[newvalpred]})\n",
    "  clos = clos.append(newclos)\n",
    "\n",
    "  clostest = clostest.append(newclos)\n",
    "  clostest.reset_index(inplace=True)\n",
    "  clostest = clostest.drop(['index'], axis = 1)"
   ]
  },
  {
   "cell_type": "code",
   "execution_count": null,
   "metadata": {
    "executionInfo": {
     "elapsed": 105,
     "status": "aborted",
     "timestamp": 1655954878473,
     "user": {
      "displayName": "Ezra Julang",
      "userId": "08946344270958630974"
     },
     "user_tz": -420
    },
    "id": "f6M6-Yvvd2cQ"
   },
   "outputs": [],
   "source": []
  },
  {
   "cell_type": "code",
   "execution_count": 13,
   "metadata": {
    "executionInfo": {
     "elapsed": 124,
     "status": "aborted",
     "timestamp": 1655954878494,
     "user": {
      "displayName": "Ezra Julang",
      "userId": "08946344270958630974"
     },
     "user_tz": -420
    },
    "id": "2MG1dMRSDnN8"
   },
   "outputs": [
    {
     "data": {
      "text/html": [
       "<div>\n",
       "<style scoped>\n",
       "    .dataframe tbody tr th:only-of-type {\n",
       "        vertical-align: middle;\n",
       "    }\n",
       "\n",
       "    .dataframe tbody tr th {\n",
       "        vertical-align: top;\n",
       "    }\n",
       "\n",
       "    .dataframe thead th {\n",
       "        text-align: right;\n",
       "    }\n",
       "</style>\n",
       "<table border=\"1\" class=\"dataframe\">\n",
       "  <thead>\n",
       "    <tr style=\"text-align: right;\">\n",
       "      <th></th>\n",
       "      <th>Close</th>\n",
       "    </tr>\n",
       "    <tr>\n",
       "      <th>Date</th>\n",
       "      <th></th>\n",
       "    </tr>\n",
       "  </thead>\n",
       "  <tbody>\n",
       "    <tr>\n",
       "      <th>2022-06-22</th>\n",
       "      <td>20835.750000</td>\n",
       "    </tr>\n",
       "    <tr>\n",
       "      <th>2022-06-24</th>\n",
       "      <td>19627.554688</td>\n",
       "    </tr>\n",
       "    <tr>\n",
       "      <th>2022-06-25</th>\n",
       "      <td>20007.195312</td>\n",
       "    </tr>\n",
       "    <tr>\n",
       "      <th>2022-06-26</th>\n",
       "      <td>20270.585938</td>\n",
       "    </tr>\n",
       "    <tr>\n",
       "      <th>2022-06-27</th>\n",
       "      <td>19742.263672</td>\n",
       "    </tr>\n",
       "    <tr>\n",
       "      <th>2022-06-28</th>\n",
       "      <td>19906.607422</td>\n",
       "    </tr>\n",
       "    <tr>\n",
       "      <th>2022-06-29</th>\n",
       "      <td>20608.269531</td>\n",
       "    </tr>\n",
       "    <tr>\n",
       "      <th>2022-06-30</th>\n",
       "      <td>19796.839844</td>\n",
       "    </tr>\n",
       "    <tr>\n",
       "      <th>2022-07-01</th>\n",
       "      <td>22325.000000</td>\n",
       "    </tr>\n",
       "    <tr>\n",
       "      <th>2022-07-02</th>\n",
       "      <td>20749.304688</td>\n",
       "    </tr>\n",
       "    <tr>\n",
       "      <th>2022-07-03</th>\n",
       "      <td>21935.763672</td>\n",
       "    </tr>\n",
       "    <tr>\n",
       "      <th>2022-07-04</th>\n",
       "      <td>21651.845703</td>\n",
       "    </tr>\n",
       "    <tr>\n",
       "      <th>2022-07-05</th>\n",
       "      <td>23934.011719</td>\n",
       "    </tr>\n",
       "    <tr>\n",
       "      <th>2022-07-06</th>\n",
       "      <td>22088.310547</td>\n",
       "    </tr>\n",
       "    <tr>\n",
       "      <th>2022-07-07</th>\n",
       "      <td>20992.048828</td>\n",
       "    </tr>\n",
       "    <tr>\n",
       "      <th>2022-07-08</th>\n",
       "      <td>20132.173828</td>\n",
       "    </tr>\n",
       "    <tr>\n",
       "      <th>2022-07-09</th>\n",
       "      <td>22240.283203</td>\n",
       "    </tr>\n",
       "    <tr>\n",
       "      <th>2022-07-10</th>\n",
       "      <td>21750.646484</td>\n",
       "    </tr>\n",
       "    <tr>\n",
       "      <th>2022-07-11</th>\n",
       "      <td>20835.408203</td>\n",
       "    </tr>\n",
       "    <tr>\n",
       "      <th>2022-07-12</th>\n",
       "      <td>22252.767578</td>\n",
       "    </tr>\n",
       "    <tr>\n",
       "      <th>2022-07-13</th>\n",
       "      <td>21974.205078</td>\n",
       "    </tr>\n",
       "    <tr>\n",
       "      <th>2022-07-14</th>\n",
       "      <td>20540.757812</td>\n",
       "    </tr>\n",
       "    <tr>\n",
       "      <th>2022-07-15</th>\n",
       "      <td>21775.007812</td>\n",
       "    </tr>\n",
       "    <tr>\n",
       "      <th>2022-07-16</th>\n",
       "      <td>22271.921875</td>\n",
       "    </tr>\n",
       "    <tr>\n",
       "      <th>2022-07-17</th>\n",
       "      <td>19476.517578</td>\n",
       "    </tr>\n",
       "    <tr>\n",
       "      <th>2022-07-18</th>\n",
       "      <td>21218.914062</td>\n",
       "    </tr>\n",
       "    <tr>\n",
       "      <th>2022-07-19</th>\n",
       "      <td>21706.902344</td>\n",
       "    </tr>\n",
       "    <tr>\n",
       "      <th>2022-07-20</th>\n",
       "      <td>19965.390625</td>\n",
       "    </tr>\n",
       "    <tr>\n",
       "      <th>2022-07-21</th>\n",
       "      <td>20439.853516</td>\n",
       "    </tr>\n",
       "    <tr>\n",
       "      <th>2022-07-22</th>\n",
       "      <td>21919.904297</td>\n",
       "    </tr>\n",
       "    <tr>\n",
       "      <th>2022-07-23</th>\n",
       "      <td>20557.462891</td>\n",
       "    </tr>\n",
       "  </tbody>\n",
       "</table>\n",
       "</div>"
      ],
      "text/plain": [
       "                   Close\n",
       "Date                    \n",
       "2022-06-22  20835.750000\n",
       "2022-06-24  19627.554688\n",
       "2022-06-25  20007.195312\n",
       "2022-06-26  20270.585938\n",
       "2022-06-27  19742.263672\n",
       "2022-06-28  19906.607422\n",
       "2022-06-29  20608.269531\n",
       "2022-06-30  19796.839844\n",
       "2022-07-01  22325.000000\n",
       "2022-07-02  20749.304688\n",
       "2022-07-03  21935.763672\n",
       "2022-07-04  21651.845703\n",
       "2022-07-05  23934.011719\n",
       "2022-07-06  22088.310547\n",
       "2022-07-07  20992.048828\n",
       "2022-07-08  20132.173828\n",
       "2022-07-09  22240.283203\n",
       "2022-07-10  21750.646484\n",
       "2022-07-11  20835.408203\n",
       "2022-07-12  22252.767578\n",
       "2022-07-13  21974.205078\n",
       "2022-07-14  20540.757812\n",
       "2022-07-15  21775.007812\n",
       "2022-07-16  22271.921875\n",
       "2022-07-17  19476.517578\n",
       "2022-07-18  21218.914062\n",
       "2022-07-19  21706.902344\n",
       "2022-07-20  19965.390625\n",
       "2022-07-21  20439.853516\n",
       "2022-07-22  21919.904297\n",
       "2022-07-23  20557.462891"
      ]
     },
     "execution_count": 13,
     "metadata": {},
     "output_type": "execute_result"
    }
   ],
   "source": [
    "#set index to date\n",
    "clos.set_index('Date', inplace=True)\n",
    "clos"
   ]
  },
  {
   "cell_type": "code",
   "execution_count": 14,
   "metadata": {
    "executionInfo": {
     "elapsed": 129,
     "status": "aborted",
     "timestamp": 1655954878499,
     "user": {
      "displayName": "Ezra Julang",
      "userId": "08946344270958630974"
     },
     "user_tz": -420
    },
    "id": "LZ3G5NJ8VzSJ"
   },
   "outputs": [
    {
     "data": {
      "text/html": [
       "<div>\n",
       "<style scoped>\n",
       "    .dataframe tbody tr th:only-of-type {\n",
       "        vertical-align: middle;\n",
       "    }\n",
       "\n",
       "    .dataframe tbody tr th {\n",
       "        vertical-align: top;\n",
       "    }\n",
       "\n",
       "    .dataframe thead th {\n",
       "        text-align: right;\n",
       "    }\n",
       "</style>\n",
       "<table border=\"1\" class=\"dataframe\">\n",
       "  <thead>\n",
       "    <tr style=\"text-align: right;\">\n",
       "      <th></th>\n",
       "      <th>High</th>\n",
       "      <th>Low</th>\n",
       "      <th>Open</th>\n",
       "      <th>Close</th>\n",
       "      <th>Volume</th>\n",
       "      <th>Adj Close</th>\n",
       "    </tr>\n",
       "    <tr>\n",
       "      <th>Date</th>\n",
       "      <th></th>\n",
       "      <th></th>\n",
       "      <th></th>\n",
       "      <th></th>\n",
       "      <th></th>\n",
       "      <th></th>\n",
       "    </tr>\n",
       "  </thead>\n",
       "  <tbody>\n",
       "    <tr>\n",
       "      <th>2022-03-16</th>\n",
       "      <td>41465.453125</td>\n",
       "      <td>39022.347656</td>\n",
       "      <td>39335.570312</td>\n",
       "      <td>41143.929688</td>\n",
       "      <td>39616916192</td>\n",
       "      <td>41143.929688</td>\n",
       "    </tr>\n",
       "    <tr>\n",
       "      <th>2022-03-17</th>\n",
       "      <td>41287.535156</td>\n",
       "      <td>40662.871094</td>\n",
       "      <td>41140.843750</td>\n",
       "      <td>40951.378906</td>\n",
       "      <td>22009601093</td>\n",
       "      <td>40951.378906</td>\n",
       "    </tr>\n",
       "    <tr>\n",
       "      <th>2022-03-18</th>\n",
       "      <td>42195.746094</td>\n",
       "      <td>40302.398438</td>\n",
       "      <td>40944.839844</td>\n",
       "      <td>41801.156250</td>\n",
       "      <td>34421564942</td>\n",
       "      <td>41801.156250</td>\n",
       "    </tr>\n",
       "    <tr>\n",
       "      <th>2022-03-19</th>\n",
       "      <td>42316.554688</td>\n",
       "      <td>41602.667969</td>\n",
       "      <td>41794.648438</td>\n",
       "      <td>42190.652344</td>\n",
       "      <td>19664853187</td>\n",
       "      <td>42190.652344</td>\n",
       "    </tr>\n",
       "    <tr>\n",
       "      <th>2022-03-20</th>\n",
       "      <td>42241.164062</td>\n",
       "      <td>41004.757812</td>\n",
       "      <td>42191.406250</td>\n",
       "      <td>41247.824219</td>\n",
       "      <td>20127946682</td>\n",
       "      <td>41247.824219</td>\n",
       "    </tr>\n",
       "    <tr>\n",
       "      <th>...</th>\n",
       "      <td>...</td>\n",
       "      <td>...</td>\n",
       "      <td>...</td>\n",
       "      <td>...</td>\n",
       "      <td>...</td>\n",
       "      <td>...</td>\n",
       "    </tr>\n",
       "    <tr>\n",
       "      <th>2022-06-18</th>\n",
       "      <td>20736.041016</td>\n",
       "      <td>17708.623047</td>\n",
       "      <td>20473.425781</td>\n",
       "      <td>19017.642578</td>\n",
       "      <td>42009436760</td>\n",
       "      <td>19017.642578</td>\n",
       "    </tr>\n",
       "    <tr>\n",
       "      <th>2022-06-19</th>\n",
       "      <td>20683.822266</td>\n",
       "      <td>18067.152344</td>\n",
       "      <td>19010.902344</td>\n",
       "      <td>20553.271484</td>\n",
       "      <td>35329942625</td>\n",
       "      <td>20553.271484</td>\n",
       "    </tr>\n",
       "    <tr>\n",
       "      <th>2022-06-20</th>\n",
       "      <td>20913.322266</td>\n",
       "      <td>19689.169922</td>\n",
       "      <td>20553.371094</td>\n",
       "      <td>20599.537109</td>\n",
       "      <td>30818458597</td>\n",
       "      <td>20599.537109</td>\n",
       "    </tr>\n",
       "    <tr>\n",
       "      <th>2022-06-21</th>\n",
       "      <td>21620.628906</td>\n",
       "      <td>20415.062500</td>\n",
       "      <td>20594.294922</td>\n",
       "      <td>20710.597656</td>\n",
       "      <td>28970212744</td>\n",
       "      <td>20710.597656</td>\n",
       "    </tr>\n",
       "    <tr>\n",
       "      <th>2022-06-22</th>\n",
       "      <td>20835.750000</td>\n",
       "      <td>19848.078125</td>\n",
       "      <td>20719.414062</td>\n",
       "      <td>19987.029297</td>\n",
       "      <td>28574793478</td>\n",
       "      <td>19987.029297</td>\n",
       "    </tr>\n",
       "  </tbody>\n",
       "</table>\n",
       "<p>99 rows × 6 columns</p>\n",
       "</div>"
      ],
      "text/plain": [
       "                    High           Low          Open         Close  \\\n",
       "Date                                                                 \n",
       "2022-03-16  41465.453125  39022.347656  39335.570312  41143.929688   \n",
       "2022-03-17  41287.535156  40662.871094  41140.843750  40951.378906   \n",
       "2022-03-18  42195.746094  40302.398438  40944.839844  41801.156250   \n",
       "2022-03-19  42316.554688  41602.667969  41794.648438  42190.652344   \n",
       "2022-03-20  42241.164062  41004.757812  42191.406250  41247.824219   \n",
       "...                  ...           ...           ...           ...   \n",
       "2022-06-18  20736.041016  17708.623047  20473.425781  19017.642578   \n",
       "2022-06-19  20683.822266  18067.152344  19010.902344  20553.271484   \n",
       "2022-06-20  20913.322266  19689.169922  20553.371094  20599.537109   \n",
       "2022-06-21  21620.628906  20415.062500  20594.294922  20710.597656   \n",
       "2022-06-22  20835.750000  19848.078125  20719.414062  19987.029297   \n",
       "\n",
       "                 Volume     Adj Close  \n",
       "Date                                   \n",
       "2022-03-16  39616916192  41143.929688  \n",
       "2022-03-17  22009601093  40951.378906  \n",
       "2022-03-18  34421564942  41801.156250  \n",
       "2022-03-19  19664853187  42190.652344  \n",
       "2022-03-20  20127946682  41247.824219  \n",
       "...                 ...           ...  \n",
       "2022-06-18  42009436760  19017.642578  \n",
       "2022-06-19  35329942625  20553.271484  \n",
       "2022-06-20  30818458597  20599.537109  \n",
       "2022-06-21  28970212744  20710.597656  \n",
       "2022-06-22  28574793478  19987.029297  \n",
       "\n",
       "[99 rows x 6 columns]"
      ]
     },
     "execution_count": 14,
     "metadata": {},
     "output_type": "execute_result"
    }
   ],
   "source": [
    "#just take 100 days before so you can easily see the prediction\n",
    "df_100rowsbef = df[-100:-1]\n",
    "df_100rowsbef"
   ]
  },
  {
   "cell_type": "code",
   "execution_count": 15,
   "metadata": {
    "executionInfo": {
     "elapsed": 131,
     "status": "aborted",
     "timestamp": 1655954878502,
     "user": {
      "displayName": "Ezra Julang",
      "userId": "08946344270958630974"
     },
     "user_tz": -420
    },
    "id": "3uzrm_XhlIr4"
   },
   "outputs": [
    {
     "data": {
      "image/png": "[encoded data removed]",
      "text/plain": [
       "<Figure size 1152x576 with 1 Axes>"
      ]
     },
     "metadata": {
      "needs_background": "light"
     },
     "output_type": "display_data"
    }
   ],
   "source": [
    "#Visualize the data\n",
    "plt.figure(figsize=(16,8))\n",
    "plt.title('Model')\n",
    "plt.xlabel('Date', fontsize=18)\n",
    "plt.ylabel('Close Price in USD', fontsize =18)\n",
    "plt.plot(df_100rowsbef['Close'])\n",
    "plt.plot(clos['Close'])\n",
    "plt.legend(['Real', 'Predictions'])\n",
    "plt.show()"
   ]
  },
  {
   "cell_type": "code",
   "execution_count": null,
   "metadata": {
    "executionInfo": {
     "elapsed": 141,
     "status": "aborted",
     "timestamp": 1655954878512,
     "user": {
      "displayName": "Ezra Julang",
      "userId": "08946344270958630974"
     },
     "user_tz": -420
    },
    "id": "dE_mLfix-DJR"
   },
   "outputs": [],
   "source": []
  },
  {
   "cell_type": "markdown",
   "metadata": {
    "id": "SqsO-RKUW9KV"
   },
   "source": [
    "We can see the red line which the value of predicted future 10 days close price"
   ]
  }
 ],
 "metadata": {
  "accelerator": "GPU",
  "colab": {
   "authorship_tag": "ABX9TyMIgmqZV/y+sKQCN6hwBoUZ",
   "collapsed_sections": [],
   "name": "predict future stockprice.ipynb",
   "provenance": [
    {
     "file_id": "1O9LvmdWZfLH0RLK84SDE5uEHgNHcynn9",
     "timestamp": 1655894029237
    }
   ]
  },
  "gpuClass": "standard",
  "kernelspec": {
   "display_name": "Python 3 (ipykernel)",
   "language": "python",
   "name": "python3"
  },
  "language_info": {
   "codemirror_mode": {
    "name": "ipython",
    "version": 3
   },
   "file_extension": ".py",
   "mimetype": "text/x-python",
   "name": "python",
   "nbconvert_exporter": "python",
   "pygments_lexer": "ipython3",
   "version": "3.10.5"
  }
 },
 "nbformat": 4,
 "nbformat_minor": 1
}
